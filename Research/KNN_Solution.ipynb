{
  "nbformat": 4,
  "nbformat_minor": 0,
  "metadata": {
    "colab": {
      "provenance": []
    },
    "kernelspec": {
      "name": "python3",
      "display_name": "Python 3"
    },
    "language_info": {
      "name": "python"
    }
  },
  "cells": [
    {
      "cell_type": "markdown",
      "source": [
        "Use the ratings of all movies by the user as a feature vector and process the input user ID with the KNN algorithm:  \n",
        "1. Select the 10 users most similar to the current user;  \n",
        "2. Identify movies that these 10 similar users have watched but the current user has not;  \n",
        "3. Recommend the ten movies with the highest average ratings from these films to this user."
      ],
      "metadata": {
        "id": "AtYkGe67yxS7"
      }
    },
    {
      "cell_type": "code",
      "source": [
        "!pip install scikit-surprise"
      ],
      "metadata": {
        "colab": {
          "base_uri": "https://localhost:8080/"
        },
        "id": "MySzzd8_0gly",
        "outputId": "de091522-573f-42f9-b339-c10598aa3d6a"
      },
      "execution_count": 2,
      "outputs": [
        {
          "output_type": "stream",
          "name": "stdout",
          "text": [
            "Collecting scikit-surprise\n",
            "  Downloading scikit_surprise-1.1.4.tar.gz (154 kB)\n",
            "\u001b[?25l     \u001b[90m━━━━━━━━━━━━━━━━━━━━━━━━━━━━━━━━━━━━━━━━\u001b[0m \u001b[32m0.0/154.4 kB\u001b[0m \u001b[31m?\u001b[0m eta \u001b[36m-:--:--\u001b[0m\r\u001b[2K     \u001b[91m━━━━━━━━━━━━━━━━━━━━━━━━━━━━━━━━━━━━━━━\u001b[0m\u001b[91m╸\u001b[0m \u001b[32m153.6/154.4 kB\u001b[0m \u001b[31m4.6 MB/s\u001b[0m eta \u001b[36m0:00:01\u001b[0m\r\u001b[2K     \u001b[90m━━━━━━━━━━━━━━━━━━━━━━━━━━━━━━━━━━━━━━━━\u001b[0m \u001b[32m154.4/154.4 kB\u001b[0m \u001b[31m3.5 MB/s\u001b[0m eta \u001b[36m0:00:00\u001b[0m\n",
            "\u001b[?25h  Installing build dependencies ... \u001b[?25l\u001b[?25hdone\n",
            "  Getting requirements to build wheel ... \u001b[?25l\u001b[?25hdone\n",
            "  Preparing metadata (pyproject.toml) ... \u001b[?25l\u001b[?25hdone\n",
            "Requirement already satisfied: joblib>=1.2.0 in /usr/local/lib/python3.10/dist-packages (from scikit-surprise) (1.4.2)\n",
            "Requirement already satisfied: numpy>=1.19.5 in /usr/local/lib/python3.10/dist-packages (from scikit-surprise) (1.26.4)\n",
            "Requirement already satisfied: scipy>=1.6.0 in /usr/local/lib/python3.10/dist-packages (from scikit-surprise) (1.13.1)\n",
            "Building wheels for collected packages: scikit-surprise\n",
            "  Building wheel for scikit-surprise (pyproject.toml) ... \u001b[?25l\u001b[?25hdone\n",
            "  Created wheel for scikit-surprise: filename=scikit_surprise-1.1.4-cp310-cp310-linux_x86_64.whl size=2357274 sha256=627aef09828ef58ecc9d4501ac90eaa925f26a2d876a101a709cadde86c61c5e\n",
            "  Stored in directory: /root/.cache/pip/wheels/4b/3f/df/6acbf0a40397d9bf3ff97f582cc22fb9ce66adde75bc71fd54\n",
            "Successfully built scikit-surprise\n",
            "Installing collected packages: scikit-surprise\n",
            "Successfully installed scikit-surprise-1.1.4\n"
          ]
        }
      ]
    },
    {
      "cell_type": "code",
      "source": [
        "# Dependencies\n",
        "import pandas as pd\n",
        "import numpy as np\n",
        "from surprise import Reader, Dataset, KNNBaseline\n",
        "from surprise.model_selection import train_test_split\n",
        "from surprise import accuracy"
      ],
      "metadata": {
        "id": "IInRWGWDzd6Q"
      },
      "execution_count": 58,
      "outputs": []
    },
    {
      "cell_type": "code",
      "source": [
        "# Load the data\n",
        "movies = pd.read_csv('/content/DataSets/Movies_data_V3.csv')\n",
        "ratings = pd.read_csv('/content/DataSets/ratings_clean.csv')\n",
        "users = pd.read_csv('/content/DataSets/users_clean_V2.csv')\n",
        "\n",
        "# Check dataset shapes\n",
        "print(\"Movies shape:\", movies.shape)\n",
        "print(\"Ratings shape:\", ratings.shape)\n",
        "print(\"Users shape:\", users.shape)"
      ],
      "metadata": {
        "id": "Dkcum3fdzoZC",
        "colab": {
          "base_uri": "https://localhost:8080/"
        },
        "outputId": "ca2ae473-e294-41c9-adb5-c22f8ff02c8c"
      },
      "execution_count": 59,
      "outputs": [
        {
          "output_type": "stream",
          "name": "stdout",
          "text": [
            "Movies shape: (3875, 21)\n",
            "Ratings shape: (1000208, 4)\n",
            "Users shape: (6040, 4)\n"
          ]
        }
      ]
    },
    {
      "cell_type": "code",
      "source": [
        "# Rename columns to match expected format\n",
        "ratings = ratings.rename(columns={\n",
        "    'UserID': 'userId',\n",
        "    'MovieID': 'movieId',\n",
        "    'Rating': 'rating'\n",
        "})\n",
        "\n",
        "movies = movies.rename(columns={\n",
        "    'MovieID': 'movieId',\n",
        "    'Title': 'title',\n",
        "    'YEAR': 'year'\n",
        "})\n",
        "\n",
        "users = users.rename(columns={\n",
        "    'UserID': 'userId',\n",
        "    'Gender': 'gender',\n",
        "    'Age': 'age',\n",
        "    'Occupation': 'occupation'\n",
        "})"
      ],
      "metadata": {
        "id": "fbEIE6iznBQy"
      },
      "execution_count": 60,
      "outputs": []
    },
    {
      "cell_type": "code",
      "source": [
        "# Check the columns\n",
        "print(movies.columns)\n",
        "print(ratings.columns)\n",
        "print(users.columns)"
      ],
      "metadata": {
        "colab": {
          "base_uri": "https://localhost:8080/"
        },
        "id": "5m2WU2Vn0-Ok",
        "outputId": "4d989f5f-e589-44b4-d2c8-13a2e8ae4fcf"
      },
      "execution_count": 61,
      "outputs": [
        {
          "output_type": "stream",
          "name": "stdout",
          "text": [
            "Index(['year', 'movieId', 'title', 'Genres_Western', 'Genres_War',\n",
            "       'Genres_Thriller', 'Genres_Sci-Fi', 'Genres_Romance', 'Genres_Mystery',\n",
            "       'Genres_Musical', 'Genres_Horror', 'Genres_Film-Noir', 'Genres_Fantasy',\n",
            "       'Genres_Drama', 'Genres_Documentary', 'Genres_Crime', 'Genres_Comedy',\n",
            "       'Genres_Children's', 'Genres_Animation', 'Genres_Adventure',\n",
            "       'Genres_Action'],\n",
            "      dtype='object')\n",
            "Index(['userId', 'movieId', 'rating', 'Timestamp'], dtype='object')\n",
            "Index(['userId', 'gender', 'age', 'occupation'], dtype='object')\n"
          ]
        }
      ]
    },
    {
      "cell_type": "code",
      "source": [
        "movies.dtypes"
      ],
      "metadata": {
        "colab": {
          "base_uri": "https://localhost:8080/",
          "height": 743
        },
        "id": "3AnATI4V8Oh1",
        "outputId": "1ebcbc29-3351-44ab-d381-3ab20719a381"
      },
      "execution_count": 62,
      "outputs": [
        {
          "output_type": "execute_result",
          "data": {
            "text/plain": [
              "year                  object\n",
              "movieId                int64\n",
              "title                 object\n",
              "Genres_Western         int64\n",
              "Genres_War             int64\n",
              "Genres_Thriller        int64\n",
              "Genres_Sci-Fi          int64\n",
              "Genres_Romance         int64\n",
              "Genres_Mystery         int64\n",
              "Genres_Musical         int64\n",
              "Genres_Horror          int64\n",
              "Genres_Film-Noir       int64\n",
              "Genres_Fantasy         int64\n",
              "Genres_Drama           int64\n",
              "Genres_Documentary     int64\n",
              "Genres_Crime           int64\n",
              "Genres_Comedy          int64\n",
              "Genres_Children's      int64\n",
              "Genres_Animation       int64\n",
              "Genres_Adventure       int64\n",
              "Genres_Action          int64\n",
              "dtype: object"
            ],
            "text/html": [
              "<div>\n",
              "<style scoped>\n",
              "    .dataframe tbody tr th:only-of-type {\n",
              "        vertical-align: middle;\n",
              "    }\n",
              "\n",
              "    .dataframe tbody tr th {\n",
              "        vertical-align: top;\n",
              "    }\n",
              "\n",
              "    .dataframe thead th {\n",
              "        text-align: right;\n",
              "    }\n",
              "</style>\n",
              "<table border=\"1\" class=\"dataframe\">\n",
              "  <thead>\n",
              "    <tr style=\"text-align: right;\">\n",
              "      <th></th>\n",
              "      <th>0</th>\n",
              "    </tr>\n",
              "  </thead>\n",
              "  <tbody>\n",
              "    <tr>\n",
              "      <th>year</th>\n",
              "      <td>object</td>\n",
              "    </tr>\n",
              "    <tr>\n",
              "      <th>movieId</th>\n",
              "      <td>int64</td>\n",
              "    </tr>\n",
              "    <tr>\n",
              "      <th>title</th>\n",
              "      <td>object</td>\n",
              "    </tr>\n",
              "    <tr>\n",
              "      <th>Genres_Western</th>\n",
              "      <td>int64</td>\n",
              "    </tr>\n",
              "    <tr>\n",
              "      <th>Genres_War</th>\n",
              "      <td>int64</td>\n",
              "    </tr>\n",
              "    <tr>\n",
              "      <th>Genres_Thriller</th>\n",
              "      <td>int64</td>\n",
              "    </tr>\n",
              "    <tr>\n",
              "      <th>Genres_Sci-Fi</th>\n",
              "      <td>int64</td>\n",
              "    </tr>\n",
              "    <tr>\n",
              "      <th>Genres_Romance</th>\n",
              "      <td>int64</td>\n",
              "    </tr>\n",
              "    <tr>\n",
              "      <th>Genres_Mystery</th>\n",
              "      <td>int64</td>\n",
              "    </tr>\n",
              "    <tr>\n",
              "      <th>Genres_Musical</th>\n",
              "      <td>int64</td>\n",
              "    </tr>\n",
              "    <tr>\n",
              "      <th>Genres_Horror</th>\n",
              "      <td>int64</td>\n",
              "    </tr>\n",
              "    <tr>\n",
              "      <th>Genres_Film-Noir</th>\n",
              "      <td>int64</td>\n",
              "    </tr>\n",
              "    <tr>\n",
              "      <th>Genres_Fantasy</th>\n",
              "      <td>int64</td>\n",
              "    </tr>\n",
              "    <tr>\n",
              "      <th>Genres_Drama</th>\n",
              "      <td>int64</td>\n",
              "    </tr>\n",
              "    <tr>\n",
              "      <th>Genres_Documentary</th>\n",
              "      <td>int64</td>\n",
              "    </tr>\n",
              "    <tr>\n",
              "      <th>Genres_Crime</th>\n",
              "      <td>int64</td>\n",
              "    </tr>\n",
              "    <tr>\n",
              "      <th>Genres_Comedy</th>\n",
              "      <td>int64</td>\n",
              "    </tr>\n",
              "    <tr>\n",
              "      <th>Genres_Children's</th>\n",
              "      <td>int64</td>\n",
              "    </tr>\n",
              "    <tr>\n",
              "      <th>Genres_Animation</th>\n",
              "      <td>int64</td>\n",
              "    </tr>\n",
              "    <tr>\n",
              "      <th>Genres_Adventure</th>\n",
              "      <td>int64</td>\n",
              "    </tr>\n",
              "    <tr>\n",
              "      <th>Genres_Action</th>\n",
              "      <td>int64</td>\n",
              "    </tr>\n",
              "  </tbody>\n",
              "</table>\n",
              "</div><br><label><b>dtype:</b> object</label>"
            ]
          },
          "metadata": {},
          "execution_count": 62
        }
      ]
    },
    {
      "cell_type": "code",
      "source": [
        "# Convert 'year' column to numeric, setting non-numeric values to NaN\n",
        "movies['year'] = pd.to_numeric(movies['year'], errors='coerce')"
      ],
      "metadata": {
        "id": "jT1WJKXdrrq8"
      },
      "execution_count": 63,
      "outputs": []
    },
    {
      "cell_type": "code",
      "source": [
        "movies.dtypes"
      ],
      "metadata": {
        "colab": {
          "base_uri": "https://localhost:8080/",
          "height": 743
        },
        "id": "1K8OAcfbr5zZ",
        "outputId": "b07f94af-f308-4331-b713-3dd2b3eac8af"
      },
      "execution_count": 64,
      "outputs": [
        {
          "output_type": "execute_result",
          "data": {
            "text/plain": [
              "year                  float64\n",
              "movieId                 int64\n",
              "title                  object\n",
              "Genres_Western          int64\n",
              "Genres_War              int64\n",
              "Genres_Thriller         int64\n",
              "Genres_Sci-Fi           int64\n",
              "Genres_Romance          int64\n",
              "Genres_Mystery          int64\n",
              "Genres_Musical          int64\n",
              "Genres_Horror           int64\n",
              "Genres_Film-Noir        int64\n",
              "Genres_Fantasy          int64\n",
              "Genres_Drama            int64\n",
              "Genres_Documentary      int64\n",
              "Genres_Crime            int64\n",
              "Genres_Comedy           int64\n",
              "Genres_Children's       int64\n",
              "Genres_Animation        int64\n",
              "Genres_Adventure        int64\n",
              "Genres_Action           int64\n",
              "dtype: object"
            ],
            "text/html": [
              "<div>\n",
              "<style scoped>\n",
              "    .dataframe tbody tr th:only-of-type {\n",
              "        vertical-align: middle;\n",
              "    }\n",
              "\n",
              "    .dataframe tbody tr th {\n",
              "        vertical-align: top;\n",
              "    }\n",
              "\n",
              "    .dataframe thead th {\n",
              "        text-align: right;\n",
              "    }\n",
              "</style>\n",
              "<table border=\"1\" class=\"dataframe\">\n",
              "  <thead>\n",
              "    <tr style=\"text-align: right;\">\n",
              "      <th></th>\n",
              "      <th>0</th>\n",
              "    </tr>\n",
              "  </thead>\n",
              "  <tbody>\n",
              "    <tr>\n",
              "      <th>year</th>\n",
              "      <td>float64</td>\n",
              "    </tr>\n",
              "    <tr>\n",
              "      <th>movieId</th>\n",
              "      <td>int64</td>\n",
              "    </tr>\n",
              "    <tr>\n",
              "      <th>title</th>\n",
              "      <td>object</td>\n",
              "    </tr>\n",
              "    <tr>\n",
              "      <th>Genres_Western</th>\n",
              "      <td>int64</td>\n",
              "    </tr>\n",
              "    <tr>\n",
              "      <th>Genres_War</th>\n",
              "      <td>int64</td>\n",
              "    </tr>\n",
              "    <tr>\n",
              "      <th>Genres_Thriller</th>\n",
              "      <td>int64</td>\n",
              "    </tr>\n",
              "    <tr>\n",
              "      <th>Genres_Sci-Fi</th>\n",
              "      <td>int64</td>\n",
              "    </tr>\n",
              "    <tr>\n",
              "      <th>Genres_Romance</th>\n",
              "      <td>int64</td>\n",
              "    </tr>\n",
              "    <tr>\n",
              "      <th>Genres_Mystery</th>\n",
              "      <td>int64</td>\n",
              "    </tr>\n",
              "    <tr>\n",
              "      <th>Genres_Musical</th>\n",
              "      <td>int64</td>\n",
              "    </tr>\n",
              "    <tr>\n",
              "      <th>Genres_Horror</th>\n",
              "      <td>int64</td>\n",
              "    </tr>\n",
              "    <tr>\n",
              "      <th>Genres_Film-Noir</th>\n",
              "      <td>int64</td>\n",
              "    </tr>\n",
              "    <tr>\n",
              "      <th>Genres_Fantasy</th>\n",
              "      <td>int64</td>\n",
              "    </tr>\n",
              "    <tr>\n",
              "      <th>Genres_Drama</th>\n",
              "      <td>int64</td>\n",
              "    </tr>\n",
              "    <tr>\n",
              "      <th>Genres_Documentary</th>\n",
              "      <td>int64</td>\n",
              "    </tr>\n",
              "    <tr>\n",
              "      <th>Genres_Crime</th>\n",
              "      <td>int64</td>\n",
              "    </tr>\n",
              "    <tr>\n",
              "      <th>Genres_Comedy</th>\n",
              "      <td>int64</td>\n",
              "    </tr>\n",
              "    <tr>\n",
              "      <th>Genres_Children's</th>\n",
              "      <td>int64</td>\n",
              "    </tr>\n",
              "    <tr>\n",
              "      <th>Genres_Animation</th>\n",
              "      <td>int64</td>\n",
              "    </tr>\n",
              "    <tr>\n",
              "      <th>Genres_Adventure</th>\n",
              "      <td>int64</td>\n",
              "    </tr>\n",
              "    <tr>\n",
              "      <th>Genres_Action</th>\n",
              "      <td>int64</td>\n",
              "    </tr>\n",
              "  </tbody>\n",
              "</table>\n",
              "</div><br><label><b>dtype:</b> object</label>"
            ]
          },
          "metadata": {},
          "execution_count": 64
        }
      ]
    },
    {
      "cell_type": "code",
      "source": [
        "# Create the Surprise Dataset object\n",
        "reader = Reader(rating_scale=(1, 5))\n",
        "data = Dataset.load_from_df(ratings[['userId', 'movieId', 'rating']], reader)"
      ],
      "metadata": {
        "id": "Ms8nk45f2N2s"
      },
      "execution_count": 65,
      "outputs": []
    },
    {
      "cell_type": "code",
      "source": [
        "# Split the dataset into 85% training and 15% testing\n",
        "trainset, testset = train_test_split(data, test_size=0.15)"
      ],
      "metadata": {
        "id": "PyLOu9DVzjuv"
      },
      "execution_count": 66,
      "outputs": []
    },
    {
      "cell_type": "code",
      "source": [
        "# Define the function to train the KNN model\n",
        "def train_knn_model(sim_option='pearson_baseline', user_based=True):\n",
        "    sim_options = {'name': sim_option, 'user_based': user_based}\n",
        "    algo = KNNBaseline(sim_options=sim_options)\n",
        "    algo.fit(trainset)\n",
        "    return algo"
      ],
      "metadata": {
        "id": "LZXvXDHD2u4E"
      },
      "execution_count": 67,
      "outputs": []
    },
    {
      "cell_type": "code",
      "source": [
        "# Recommend movies based on user attributes without requiring a user ID\n",
        "def recommend_movies_based_on_attributes(algo, gender, age, occupation, preferred_year, year_tolerance=5, num=10):\n",
        "    \"\"\"\n",
        "    Recommend movies based on user demographic attributes without requiring a specific user ID.\n",
        "\n",
        "    Parameters:\n",
        "    - algo: Trained KNN model.\n",
        "    - gender: The gender of the user.\n",
        "    - age: The age of the user.\n",
        "    - occupation: The occupation of the user.\n",
        "    - preferred_year: The preferred movie release year.\n",
        "    - year_tolerance: Range of years around the preferred year.\n",
        "    - num: The number of movie recommendations to return.\n",
        "\n",
        "    Returns:\n",
        "    - A list of recommended movie titles and their IDs.\n",
        "    \"\"\"\n",
        "    # Filter users with similar attributes\n",
        "    similar_users_df = users[(users['gender'] == gender) &\n",
        "                             (users['age'] == age) &\n",
        "                             (users['occupation'] == occupation)]\n",
        "    similar_user_ids = similar_users_df['userId'].values\n",
        "\n",
        "    # Dictionary to accumulate movie ratings\n",
        "    movie_ratings = {}\n",
        "    for similar_user in similar_user_ids:\n",
        "        similar_user_movies = ratings[ratings['userId'] == similar_user]\n",
        "        for _, row in similar_user_movies.iterrows():\n",
        "            movie_id, rating = row['movieId'], row['rating']\n",
        "            movie_year = movies[movies['movieId'] == movie_id]['year'].values[0]\n",
        "\n",
        "            # Check if movie is within the preferred year range\n",
        "            if abs(movie_year - preferred_year) <= year_tolerance:\n",
        "                if movie_id in movie_ratings:\n",
        "                    movie_ratings[movie_id] += rating\n",
        "                else:\n",
        "                    movie_ratings[movie_id] = rating\n",
        "\n",
        "    # Sort movies by their cumulative rating\n",
        "    sorted_movies = sorted(movie_ratings.items(), key=lambda x: x[1], reverse=True)[:num]\n",
        "\n",
        "    # Get the movie titles and years for the top recommendations\n",
        "    recommended_titles = [movies[movies['movieId'] == movie_id]['title'].values[0] for movie_id, _ in sorted_movies]\n",
        "    recommended_years = [movies[movies['movieId'] == movie_id]['year'].values[0] for movie_id, _ in sorted_movies]\n",
        "\n",
        "    return list(zip(recommended_titles, recommended_years))\n"
      ],
      "metadata": {
        "id": "MEobyl5_24P4"
      },
      "execution_count": 68,
      "outputs": []
    },
    {
      "cell_type": "code",
      "source": [
        "# Train the KNN model on the training set\n",
        "algo = train_knn_model()"
      ],
      "metadata": {
        "id": "FL4KTskA75my",
        "colab": {
          "base_uri": "https://localhost:8080/"
        },
        "outputId": "c32fb952-6aba-41f2-84f1-d4d24fecd9b6"
      },
      "execution_count": 69,
      "outputs": [
        {
          "output_type": "stream",
          "name": "stdout",
          "text": [
            "Estimating biases using als...\n",
            "Computing the pearson_baseline similarity matrix...\n",
            "Done computing similarity matrix.\n"
          ]
        }
      ]
    },
    {
      "cell_type": "code",
      "source": [
        "# Example usage: Recommend movies for a specific user with attributes and preferred year\n",
        "gender = 2  # User's gender\n",
        "age = 25  # User's age\n",
        "occupation = 10  # User's occupation\n",
        "preferred_year = 2000  # User's preferred movie release year\n",
        "recommended_movies = recommend_movies_for_user(algo, user_id, gender, age, occupation, preferred_year, num=10)"
      ],
      "metadata": {
        "id": "2n8aybZQ8CKI"
      },
      "execution_count": 72,
      "outputs": []
    },
    {
      "cell_type": "code",
      "source": [
        "# Output the recommended movies\n",
        "print(\"Recommended movies based on demographic attributes:\")\n",
        "for title, year in recommended_movies:\n",
        "    print(f\"{title} ({year})\")"
      ],
      "metadata": {
        "colab": {
          "base_uri": "https://localhost:8080/"
        },
        "id": "YT-cFHJL8I8d",
        "outputId": "48ced78b-9321-4c02-9d03-834275f81064"
      },
      "execution_count": 73,
      "outputs": [
        {
          "output_type": "stream",
          "name": "stdout",
          "text": [
            "Recommended movies based on demographic attributes:\n",
            "Whole Wide World, The (1996.0)\n",
            "Liar Liar (1997.0)\n",
            "Nine Months (1995.0)\n",
            "French Kiss (1995.0)\n",
            "At First Sight (1999.0)\n",
            "Man on the Moon (1999.0)\n",
            "Last Man Standing (1996.0)\n",
            "William Shakespeare's Romeo and Juliet (1996.0)\n",
            "Con Air (1997.0)\n",
            "Zero Effect (1998.0)\n"
          ]
        }
      ]
    },
    {
      "cell_type": "markdown",
      "source": [
        "Model Evaluation"
      ],
      "metadata": {
        "id": "SyU1GFLNvG3N"
      }
    },
    {
      "cell_type": "code",
      "source": [
        "# Evaluate the model's accuracy on the test set\n",
        "predictions = algo.test(testset)\n",
        "rmse = accuracy.rmse(predictions)\n",
        "mae = accuracy.mae(predictions)\n",
        "\n",
        "print(f\"\\nModel RMSE: {rmse}\")\n",
        "print(f\"Model MAE: {mae}\")"
      ],
      "metadata": {
        "colab": {
          "base_uri": "https://localhost:8080/"
        },
        "id": "64osFAyhvOxg",
        "outputId": "dd8b4b5e-498d-44c3-ef5f-9ddbf491513a"
      },
      "execution_count": 74,
      "outputs": [
        {
          "output_type": "stream",
          "name": "stdout",
          "text": [
            "RMSE: 0.8654\n",
            "MAE:  0.6781\n",
            "\n",
            "Model RMSE: 0.8653550714207688\n",
            "Model MAE: 0.6780854307712261\n"
          ]
        }
      ]
    },
    {
      "cell_type": "markdown",
      "source": [
        "RMSE: An RMSE of 0.8654 indicates that, on average, the predictions deviate by about 0.87 points from the actual ratings (on a scale of 1 to 5). For a recommendation system, an RMSE below 1.0 is generally considered reasonably accurate, though lower values (closer to 0.5) indicate a better-performing model.\n",
        "\n",
        "MAE: An MAE of 0.6781 means that the average absolute error in predictions is around 0.68 points. This suggests that the model's predictions are, on average, within roughly 0.68 points of the actual ratings."
      ],
      "metadata": {
        "id": "wBSUd8IJ1sR_"
      }
    },
    {
      "cell_type": "code",
      "source": [
        "import matplotlib.pyplot as plt\n",
        "\n",
        "# Extract actual ratings and predicted ratings\n",
        "actual_ratings = [pred.r_ui for pred in predictions]\n",
        "predicted_ratings = [pred.est for pred in predictions]\n",
        "errors = [pred.r_ui - pred.est for pred in predictions]  # Prediction errors\n",
        "\n",
        "# Plot the distribution of prediction errors\n",
        "plt.figure(figsize=(10, 5))\n",
        "plt.hist(errors, bins=30, edgecolor='black', alpha=0.7)\n",
        "plt.title(\"Distribution of Prediction Errors\")\n",
        "plt.xlabel(\"Prediction Error (Actual - Predicted)\")\n",
        "plt.ylabel(\"Frequency\")\n",
        "plt.grid(axis='y', linestyle='--', alpha=0.7)\n",
        "plt.show()"
      ],
      "metadata": {
        "colab": {
          "base_uri": "https://localhost:8080/",
          "height": 470
        },
        "id": "WJQD4xDr2Ma9",
        "outputId": "c458ff7c-c035-4148-e281-8d4ac2861f0b"
      },
      "execution_count": 76,
      "outputs": [
        {
          "output_type": "display_data",
          "data": {
            "text/plain": [
              "<Figure size 1000x500 with 1 Axes>"
            ],
            "image/png": "[encoded data removed]"
          },
          "metadata": {}
        }
      ]
    },
    {
      "cell_type": "markdown",
      "source": [
        "Prediction error distribution (histogram): The histogram shows that most prediction errors are concentrated around zero, indicating that the model's predicted values are close to the actual values, and it appears to be approximately normally distributed with a slight skew. This symmetry suggests that the model does not consistently overestimate or underestimate scores."
      ],
      "metadata": {
        "id": "JovLYWOX3LUj"
      }
    },
    {
      "cell_type": "code",
      "source": [
        "# Scatter plot of actual vs. predicted ratings\n",
        "plt.figure(figsize=(10, 5))\n",
        "plt.scatter(actual_ratings, predicted_ratings, alpha=0.5)\n",
        "plt.plot([1, 5], [1, 5], 'r--')  # Reference line for perfect prediction\n",
        "plt.title(\"Actual vs. Predicted Ratings\")\n",
        "plt.xlabel(\"Actual Rating\")\n",
        "plt.ylabel(\"Predicted Rating\")\n",
        "plt.xlim(1, 5)\n",
        "plt.ylim(1, 5)\n",
        "plt.grid(True, linestyle='--', alpha=0.7)\n",
        "plt.show()"
      ],
      "metadata": {
        "colab": {
          "base_uri": "https://localhost:8080/",
          "height": 475
        },
        "id": "gzKemhOh3IB5",
        "outputId": "07d2b6d9-6074-4c60-ae6b-5ef8030c4e79"
      },
      "execution_count": 77,
      "outputs": [
        {
          "output_type": "display_data",
          "data": {
            "text/plain": [
              "<Figure size 1000x500 with 1 Axes>"
            ],
            "image/png": "[encoded data removed]"
          },
          "metadata": {}
        }
      ]
    },
    {
      "cell_type": "markdown",
      "source": [
        "### Structure of the Graph\n",
        "\n",
        "1. **Red Dashed Line (Diagonal)**: This red dashed line represents \"perfect prediction,\" meaning that if the model's predicted values perfectly match the actual values, all points should fall on this line. In other words, **if a point is exactly above or below the red dashed line, it indicates that the model's predicted value equals the actual value**.\n",
        "\n",
        "2. **Blue Dots (Relationship Between Actual and Predicted Values)**: Each blue dot represents a combination of (actual score, predicted score). The horizontal axis represents actual scores, while the vertical axis represents the model's predicted scores. For example, if a point is located vertically along an x-coordinate of 3 and its y-coordinate is close to 3, it indicates that the actual score is 3 and so is the model’s prediction.\n",
        "\n",
        "### Relationship Between Actual and Predicted Values\n",
        "\n",
        "Since user ratings are discrete (only integers from 1 to 5), there are noticeable **vertical bands** in the graph; each actual rating (1, 2, 3, 4, 5) has a corresponding vertical band:\n",
        "\n",
        "- **Actual Rating of 1**: If a user rates a movie as 1, ideally the model would predict closer to 1 (if accurate). However, as seen in the graph, sometimes predictions can be higher than expected—approaching even close to 3.\n",
        "- **Actual Rating of 5**: Similarly, if a user's actual rating is 5, ideally their predicted value should also be near to it—close to where it meets with red line. Yet many predictions appear lower in proximity to around three.\n",
        "\n",
        "### Why Bands Appear\n",
        "\n",
        "These vertical bands in the graph indicate:\n",
        "\n",
        "- **Fixed Actual Ratings**: Actual ratings can only be discrete integers from one through five; thus there are only five positions on this horizontal axis.\n",
        "- **Variable Predicted Values**: Predicted scores can take continuous values—not limited strictly to integers. Therefore even when an actual rating stands at three—the model might predict values like two-point-eight or three-point-one etc.\n",
        "\n",
        "### Summary\n",
        "\n",
        "- **Perfect Prediction**: Points lying on top of red diagonal signify highly accurate predictions by models.\n",
        "- **Deviation from Diagonal Points**: The further away points lie from this red diagonal signifies greater predictive error—for instance for an actual rating standing at five—a prediction falling at three shows significant underestimation by models regarding scoring."
      ],
      "metadata": {
        "id": "btJtpwpn64aR"
      }
    }
  ]
}